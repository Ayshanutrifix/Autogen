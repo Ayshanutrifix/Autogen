{
 "cells": [
  {
   "cell_type": "code",
   "execution_count": 1,
   "id": "b2de65fb",
   "metadata": {},
   "outputs": [],
   "source": [
    "from autogen_agentchat.agents import AssistantAgent\n",
    "\n"
   ]
  },
  {
   "cell_type": "code",
   "execution_count": 2,
   "id": "b2232f40",
   "metadata": {},
   "outputs": [],
   "source": [
    "from autogen_ext.models.openai import OpenAIChatCompletionClient"
   ]
  },
  {
   "cell_type": "code",
   "execution_count": 3,
   "id": "95ad5299",
   "metadata": {},
   "outputs": [],
   "source": [
    "from dotenv import load_dotenv"
   ]
  },
  {
   "cell_type": "code",
   "execution_count": 4,
   "id": "32e7c2b4",
   "metadata": {},
   "outputs": [],
   "source": [
    "import os"
   ]
  },
  {
   "cell_type": "code",
   "execution_count": 5,
   "id": "e4db4221",
   "metadata": {},
   "outputs": [],
   "source": [
    "import asyncio"
   ]
  },
  {
   "cell_type": "code",
   "execution_count": 6,
   "id": "e951928a",
   "metadata": {},
   "outputs": [
    {
     "data": {
      "text/plain": [
       "True"
      ]
     },
     "execution_count": 6,
     "metadata": {},
     "output_type": "execute_result"
    }
   ],
   "source": [
    "load_dotenv()"
   ]
  },
  {
   "cell_type": "code",
   "execution_count": 7,
   "id": "7ebf9bae",
   "metadata": {},
   "outputs": [],
   "source": [
    "api_key = os.getenv('OPENAI_API_KEY')"
   ]
  },
  {
   "cell_type": "code",
   "execution_count": 8,
   "id": "d23a15c9",
   "metadata": {},
   "outputs": [],
   "source": [
    "model_client = OpenAIChatCompletionClient(model=\"gpt-4\",api_key=api_key)"
   ]
  },
  {
   "cell_type": "code",
   "execution_count": 11,
   "id": "78ec79f2",
   "metadata": {},
   "outputs": [],
   "source": [
    "def get_weather(city:str) -> str:\n",
    "    return f\"The weather in {city} is sunny with a high of 25°C.\""
   ]
  },
  {
   "cell_type": "code",
   "execution_count": 12,
   "id": "5064be48",
   "metadata": {},
   "outputs": [],
   "source": [
    "assistant = AssistantAgent(name = \"my_assistant\" , \n",
    "                           model_client=model_client,\n",
    "                           system_message=\"You are a helpful assistant that provides weather information.\",\n",
    "                           tools=[get_weather])\n",
    "           "
   ]
  },
  {
   "cell_type": "code",
   "execution_count": 16,
   "id": "047ec4bd",
   "metadata": {},
   "outputs": [],
   "source": [
    "result = await assistant.run(task=\"What is the weather like in Bengaluru?\")   "
   ]
  },
  {
   "cell_type": "code",
   "execution_count": null,
   "id": "6a2b07cf",
   "metadata": {},
   "outputs": [],
   "source": [
    "import requests\n",
    "import os\n",
    "from dotenv import load_dotenv\n",
    "\n",
    "# Load API key from .env file\n",
    "load_dotenv()\n",
    "API_KEY = os.getenv(\"OPENWEATHER_API_KEY\")\n",
    "BASE_URL = \"http://api.openweathermap.org/data/2.5/weather\"\n",
    "\n",
    "def get_weather(city: str):\n",
    "    if not API_KEY:\n",
    "        raise ValueError(\"❌ No API key found. Please add OPENWEATHER_API_KEY in .env\")\n",
    "\n",
    "    params = {\n",
    "        \"q\": city,\n",
    "        \"appid\": API_KEY,\n",
    "        \"units\": \"metric\"   # Celsius\n",
    "    }\n",
    "\n",
    "    response = requests.get(BASE_URL, params=params)\n",
    "\n",
    "    if response.status_code == 200:\n",
    "        data = response.json()\n",
    "        weather = {\n",
    "            \"city\": data[\"name\"],\n",
    "            \"country\": data[\"sys\"][\"country\"],\n",
    "            \"temperature\": data[\"main\"][\"temp\"],\n",
    "            \"feels_like\": data[\"main\"][\"feels_like\"],\n",
    "            \"humidity\": data[\"main\"][\"humidity\"],\n",
    "            \"weather\": data[\"weather\"][0][\"description\"].title()\n",
    "        }\n",
    "        return weather\n",
    "    else:\n",
    "        return {\"error\": f\"Failed to fetch data: {response.status_code}, {response.text}\"}\n",
    "\n",
    "if __name__ == \"__main__\":\n",
    "    city = input(\"Enter city name: \")\n",
    "    result = get_weather(city)\n",
    "    print(result)\n"
   ]
  },
  {
   "cell_type": "code",
   "execution_count": 17,
   "id": "893c9a02",
   "metadata": {},
   "outputs": [
    {
     "name": "stdout",
     "output_type": "stream",
     "text": [
      "The weather in Bengaluru is sunny with a high of 25°C.\n"
     ]
    }
   ],
   "source": [
    "print(result.messages[-1].content)"
   ]
  }
 ],
 "metadata": {
  "kernelspec": {
   "display_name": "venv (3.11.0)",
   "language": "python",
   "name": "python3"
  },
  "language_info": {
   "codemirror_mode": {
    "name": "ipython",
    "version": 3
   },
   "file_extension": ".py",
   "mimetype": "text/x-python",
   "name": "python",
   "nbconvert_exporter": "python",
   "pygments_lexer": "ipython3",
   "version": "3.11.0"
  }
 },
 "nbformat": 4,
 "nbformat_minor": 5
}
